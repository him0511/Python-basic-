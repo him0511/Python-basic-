{
  "nbformat": 4,
  "nbformat_minor": 0,
  "metadata": {
    "colab": {
      "provenance": []
    },
    "kernelspec": {
      "name": "python3",
      "display_name": "Python 3"
    },
    "language_info": {
      "name": "python"
    }
  },
  "cells": [
    {
      "cell_type": "markdown",
      "source": [
        "#Python basics"
      ],
      "metadata": {
        "id": "53nGT4FqJNKw"
      }
    },
    {
      "cell_type": "markdown",
      "source": [
        "1.  What is Python, and why is it popular?\n",
        "\n",
        " -Python is an interpreted, object-oriented, high-level programming language with dynamic semantics developed by Guido van Rossum. It was originally released in 1991.\n",
        "Python is used for server-side web development, software development, mathematics, and system scripting, and is popular for Rapid Application Development and as a scripting or glue language to tie existing components because of its high-level, built-in data structures, dynamic typing, and dynamic binding. Program maintenance costs are reduced with Python due to the easily learned syntax and emphasis on readability. Additionally, Python's support of modules and packages facilitates modular programs and reuse of code. Python is an open source community language, so numerous independent programmers are continually building libraries and functionality for it.It is incredibly versatile, flexible, and beginner-friendly.\n",
        "\n",
        "Despite its fewer acknowledged flaws, Python is appraised as the most important and popular programming language worldwid. and here are some reasons why the Python has gained immense popularity -\n",
        "\n",
        "1. **Ease of Learning and Use**: Python's syntax is simple and intuitive, making it a great language for beginners. It's easier to read and write compared to many other programming languages, which reduces the learning curve.\n",
        "\n",
        "2. **Versatility**: Python is used in a wide variety of fields, including:\n",
        "   - **Web Development** (e.g., with frameworks like Django and Flask)\n",
        "   - **Data Science and Analytics** (e.g., with libraries like Pandas, NumPy, and Matplotlib)\n",
        "   - **Machine Learning and AI** (e.g., with TensorFlow, PyTorch, and scikit-learn)\n",
        "   - **Automation** (e.g., scripting for system administration)\n",
        "   - **Software Development** (e.g., game development, desktop applications)\n",
        "\n",
        "3. **Large Standard Library**: Python comes with an extensive standard library that provides modules for various tasks, such as handling regular expressions, file I/O, networking, and even interfacing with databases.\n",
        "\n",
        "4. **Community and Ecosystem**: Python has a large, active community of developers and a rich ecosystem of third-party libraries and frameworks. This makes it easier to find solutions, tutorials, and support online.\n",
        "\n",
        "5. **Cross-Platform**: Python can run on any operating system, including Windows, macOS, and Linux, making it cross-platform. This flexibility allows developers to write code that can work on multiple platforms without major modifications.\n",
        "\n",
        "6. **Integration Capabilities**: Python can easily integrate with other languages and technologies, such as C, C++, Java, and .NET. It can also interface with web APIs and databases, which makes it highly adaptable in a variety of development environments.\n",
        "\n",
        "7. **Open-Source**: Python is open-source, meaning it is freely available for anyone to use, contribute to, and modify. This has fostered innovation and constant improvement in the language.\n",
        "\n",
        "\n",
        "This language is backed by a large group of helpful communities and supported by big tech companies like Meta and Google. Its versatility and flexibility based on simple syntax have made it extremely easy to learn and use.\n"
      ],
      "metadata": {
        "id": "q1L_YMMaJa38"
      }
    },
    {
      "cell_type": "markdown",
      "source": [
        "2. What is an interpreter in Python?\n",
        "- In Python, an **interpreter** is a program that reads and executes Python code line by line, translating it into machine code (which the computer can understand) during runtime. Unlike compiled languages, where the entire program is translated into machine code before execution (e.g., C or Java), Python is interpreted, meaning that each line of Python code is processed as it is encountered by the interpreter.\n",
        "\n",
        "*How the Python Interpreter Works:*\n",
        "\n",
        "1. **Source Code**: You write your Python code in a `.py` file, which contains human-readable instructions.\n",
        "  \n",
        "2. **Interpreter**: When you run the Python script, the Python interpreter takes the source code and processes it in steps:\n",
        "   - **Lexical Analysis**: The interpreter reads the raw source code and breaks it into a series of tokens (keywords, operators, identifiers, etc.).\n",
        "   - **Parsing**: The interpreter checks the tokens to ensure they form a valid syntax (structure) according to the Python language rules.\n",
        "   - **Bytecode Compilation**: The interpreter then translates the Python code into an intermediate form called bytecode, which is platform-independent.\n",
        "   - **Execution**: Finally, the bytecode is executed by the **Python Virtual Machine (PVM)**, which runs the instructions on your computer's hardware.\n",
        "\n",
        "*Benefits of Using an Interpreter: *\n",
        "- **Interactive and Dynamic**: Since Python is interpreted, you can test your code interactively in a REPL (Read-Eval-Print Loop) environment, which allows immediate feedback. This is useful for debugging and experimenting with small code snippets.\n",
        "  \n",
        "- **Portability**: The interpreter translates Python bytecode into machine code for the specific platform at runtime, meaning that Python programs can run on any system with a compatible Python interpreter without needing recompilation.\n",
        "\n",
        "- **No Need for Explicit Compilation**: Since Python is interpreted, you don’t have to manually compile your program before running it. The interpreter handles this automatically during execution.\n",
        "\n",
        "*Common Python Interpreters:*\n",
        "1. **CPython**: This is the most widely used Python interpreter, written in C. It is the reference implementation of Python and is typically what people mean when they refer to \"Python.\"\n",
        "   \n",
        "2. **PyPy**: A Python interpreter written in RPython, designed to be faster than CPython by using Just-In-Time (JIT) compilation.\n",
        "\n",
        "3. **Jython**: An implementation of Python designed to run on the Java Virtual Machine (JVM), allowing Python code to interact with Java code.\n",
        "\n",
        "4. **IronPython**: An implementation of Python for the .NET framework, allowing Python code to work with .NET libraries.\n",
        "\n",
        "the Python interpreter is a crucial component that executes your Python code by reading, interpreting, and running it in real-time, making Python a versatile and easy-to-use programming language."
      ],
      "metadata": {
        "id": "YhoZkgV3QJm9"
      }
    },
    {
      "cell_type": "markdown",
      "source": [
        "3. What are pre-defined keywords in Python?\n",
        "- In Python, keywords are reserved words that have a special meaning and purpose in the Python language. These keywords cannot be used as identifiers (e.g., variable names, function names, etc.) because they are used to define the syntax and structure of the language. They are pre-defined by Python and have specific functions.\n",
        "\n",
        "Python's keywords are part of the language syntax, and their usage is predefined by the Python interpreter.\n",
        "\n",
        "True-Represents the boolean value True.\n",
        "\n",
        "False-Represents the boolean value false.\n",
        "\n",
        "None-A special constant that represents a null value. 0 or empty list doesn’t compute None.\n",
        "\n",
        "and-A logical operator that combines conditional statements and returns True if both the conditions are true; else returns False.\n",
        "\n",
        "or-A logical operator that combines conditional statements and returns True if one condition is true.\n",
        "\n",
        "not-A logical operator that inverts the truth value so it returns True if the condition is false.\n",
        "\n",
        "is-Checks if two values are identical.\n",
        "\n",
        "in-Checks if a value is present in a range, list, tuple, etc.\n",
        "\n",
        "iF-Makes a conditional statement.\n",
        "\n",
        "else-A conditional statement used with if and elif conditional statements and executed if the given condition is not true.\n",
        "\n",
        "elif-A conditional statement used with an if statement and executed when the previous condition is not true.\n",
        "\n",
        "del-Deletes a reference to an object.\n",
        "\n",
        "for-Creates a for loop.\n",
        "\n",
        "while-Creates a while loop.\n",
        "\n",
        "break-Terminates the current closest enclosing loop.\n",
        "\n",
        "continue-Continues the next iteration of the current loop.\n",
        "\n",
        "import-Imports a module.\n",
        "\n",
        "from-Imports specific parts of a module.\n",
        "\n",
        "def-Helps to define functions.\n",
        "\n",
        "as-Creates an alias or alternative while importing a module.\n",
        "\n",
        "with-Simplifies exception handling.\n",
        "\n",
        "class-Defines a new user-defined class.\n",
        "\n",
        "pass-A null statement, so it does nothing.\n",
        "\n",
        "lambda-Defines an anonymous function.\n",
        "\n",
        "try-Creates a try-except statement.\n",
        "\n",
        "raise-Raises an exception.\n",
        "\n",
        "except-Used with ‘try’ to catch exceptions.\n",
        "\n",
        "finally-Used with exceptions and is executed always, whether there is an exception or not.\n",
        "\n",
        "assert-Used for debugging purposes and checking if the code is correct.\n",
        "\n",
        "return-Helps return a value and exit the function.\n",
        "\n",
        "yield-Used to end a function and return a generator.\n",
        "\n",
        "async-Creates asynchronous coroutine.\n",
        "\n",
        "await-Releases the flow of control to the event loop.\n",
        "\n",
        "global-Declares a global variable.\n",
        "\n",
        "nonlocal-Declares a non-local variable.\n",
        "\n",
        "**The rules of using keywords to write correct Python code**\n",
        "\n",
        "1. Keywords in Python are case-sensitive.\n",
        "\n",
        "2. All the keywords must be in lowercase except True and False.\n",
        "\n",
        "3. They may vary with Python versions.\n",
        "\n",
        "4. Keywords have specific meanings and predefined uses, which can’t be altered.\n",
        "\n",
        "5. They are a part of Python syntax and can’t be changed.\n",
        "\n",
        "6. They must be according to the syntax rules in Python.\n",
        "\n",
        "7. Keywords can’t be used as identifiers.\n",
        "\n",
        "8. Some words can be used as keywords in specific contexts and as identifiers in other cases.\n"
      ],
      "metadata": {
        "id": "8OpEUTLQU0Mq"
      }
    },
    {
      "cell_type": "markdown",
      "source": [
        "4. Can keywords be used as variable names.\n",
        "- No, keywords in Python cannot be used as variable names. Keywords are reserved words in Python, and they have special meanings and functions within the language. If you try to use a keyword as a variable name, the Python interpreter will raise a SyntaxError.\n",
        "\n",
        "Python uses keywords to define the syntax and structure of the language. Allowing keywords to be used as variable names would create confusion and make it difficult for the interpreter to distinguish between syntax and user-defined variables. For example, if you could use if as a variable name, it would be unclear whether if was being used for conditional logic or just as a regular variable."
      ],
      "metadata": {
        "id": "aoVhy_B3bLqO"
      }
    },
    {
      "cell_type": "markdown",
      "source": [
        "5. What is mutability in Python?\n",
        "- Mutability in Python refers to whether or not an object can be changed after it is created. An object is mutable if its contents (or state) can be altered without creating a new object, while an object is immutable if its contents cannot be changed once it is created.\n",
        "\n",
        "**Mutable Objects:**\n",
        "Mutable objects are those whose values or contents can be modified after their creation. These objects can be changed in-place without the need to reassign a new value to the variable.\n",
        "\n",
        "Examples of Mutable Objects:\n",
        "Lists: You can modify the contents of a list by adding, removing, or changing elements.\n",
        "\n",
        "Dictionaries: You can add, remove, or change key-value pairs in a dictionary.\n",
        "\n",
        "Sets: You can add or remove elements from a set\n",
        "\n",
        "**Immutable Objects:**\n",
        "Immutable objects are those whose contents cannot be changed after they are created. Any operation that seems to modify the object will actually create a new object instead.\n",
        "\n",
        "Examples of Immutable Objects:\n",
        "Strings: Once a string is created, you cannot modify its individual characters.\n",
        "\n",
        "Tuples: Tuples are ordered collections that cannot be modified after creation (no adding, removing, or changing elements).\n",
        "\n",
        "Integers, Floats: Numeric types like integers and floats are immutable.\n",
        "\n",
        "Frozen sets: A variant of sets that are immutable.\n",
        "\n",
        "The concept of mutability plays a crucial role in understanding how Python handles memory management and object references, as mutable objects can affect other variables referencing the same object, whereas immutable objects do not.\n",
        "\n",
        "\n"
      ],
      "metadata": {
        "id": "MMF6OL_kcCNM"
      }
    },
    {
      "cell_type": "markdown",
      "source": [
        "6. Why are lists mutable, but tuples are immutable?\n",
        "-The key difference between lists and tuples in Python — in terms of mutability — stems from design decisions made for different use cases, performance optimizations, and the nature of the data they are meant to handle. And the reasons why lists are mutable while tuples are immutable:\n",
        "\n",
        "1. Purpose and Use Case:\n",
        "Lists are designed to hold collections of items that can change over time. They are useful when you need to frequently modify, add, or remove elements, like in situations where data evolves or updates, such as dynamically modifying a list of user inputs, sensor data, or a collection of records.\n",
        "\n",
        "     Tuples, on the other hand, are designed to represent fixed collections of data that should not change. Tuples are often used to group related data that shouldn't be modified, such as coordinates (x, y, z), date/time values (year, month, day), or as keys in dictionaries. Their immutability guarantees that the grouped data remains consistent and unaltered.\n",
        "2. Immutability of Tuples:\n",
        "Immutability means that once a tuple is created, its contents cannot be modified. This property has several important implications:\n",
        "\n",
        "  Hashability: Immutability makes tuples hashable, which means they can be used as keys in dictionaries and elements in sets (which require the objects to be hashable). If tuples were mutable, their contents could change, and their hash values would become unpredictable. This would break the guarantees of dictionaries and sets.\n",
        "\n",
        "  Data Integrity: If you want to ensure that the data grouped in a tuple remains unchanged throughout your program, immutability provides a guarantee that nothing can alter the contents by mistake.\n",
        "3. Memory Optimization:\n",
        "Tuples are more memory efficient than lists. Since tuples are immutable, Python can optimize memory usage by storing them in a more compact way. Python can also safely share the same memory for identical tuples, a process called interning, where multiple variables point to the same tuple object in memory.\n",
        "Lists, being mutable, need to allocate more memory for flexibility to handle changes (like resizing the list when elements are added or removed).\n",
        "4. Performance Considerations:\n",
        "Tuples are typically faster than lists for iteration and access, due to their immutability. The Python interpreter can make optimizations when it knows that the data will not change.\n",
        "Lists require additional overhead to handle resizing and managing the dynamic nature of the data. Lists must also keep track of the memory allocated for potential growth or shrinkage.\n",
        "5. Data Integrity in Multithreading:\n",
        "Tuples' immutability provides a level of safety in multithreaded environments. Since their data cannot change, there are no concerns about one thread modifying the data while another is reading it.\n",
        "Lists, being mutable, require special handling (like locks or other synchronization mechanisms) when used in a multithreaded environment to avoid data corruption from simultaneous modifications.\n",
        "6. Flexibility of Lists:\n",
        "Lists are mutable because they are meant to represent collections that are frequently updated. Lists are used when you need to modify the data structure dynamically.\n",
        "\n",
        " For example:\n",
        "Adding or removing items.\n",
        "Sorting or reversing the list.\n",
        "Changing the value of individual elements\n",
        "\n",
        "Lists are mutable because they are designed for situations where the data may change dynamically during the program's execution. Their flexibility allows you to add, remove, and change elements, making them suitable for managing collections of data that need to be updated.\n",
        "\n",
        "Tuples are immutable because they are intended for representing fixed, unchanging collections of related data. Immutability ensures data integrity, allows tuples to be hashable (usable as dictionary keys), and helps optimize memory and performance when the data shouldn't change.\n",
        "The choice of using a list or tuple depends on the requirements of the program, and understanding the difference between mutable and immutable types helps to write more efficient and robust code."
      ],
      "metadata": {
        "id": "5NP4XXtGd1Ti"
      }
    },
    {
      "cell_type": "markdown",
      "source": [
        "7.What is the difference between “==” and “is” operators in Python?\n",
        "- In Python, both the\" ==\" operator and the \"is\" operator are used for comparison, but they serve different purposes and check different aspects of objects. And the differences are:\n",
        "\n",
        "1. == Operator (Equality Comparison):\n",
        "The == operator is used to compare the values of two objects to see if they are equal. It checks whether the contents or values of the two objects are the same.\n",
        "  \n",
        "  The == operator is often called the equality operator because it checks if the values of two objects are the same, regardless of whether they are the same object in memory.\n",
        "\n",
        "2. is Operator (Identity Comparison):\n",
        "The is operator is used to check whether two variables reference the same object in memory (i.e., whether they have the same identity). It compares the memory location or object identity of the two objects.\n",
        "\n",
        "   The is operator is often called the identity operator because it checks if two variables refer to the same object in memory.\n",
        "\n",
        "== is used to compare the values of objects.\n",
        "is is used to compare whether two objects refer to the same memory location (i.e., they are the same object).\n",
        "For most data comparisons, you'll use ==, but for checking object identity (such as checking if a variable is None), you will use is."
      ],
      "metadata": {
        "id": "9qqYs0KYlQrK"
      }
    },
    {
      "cell_type": "markdown",
      "source": [
        "8. What are logical operators in Python?\n",
        "- In Python, logical operators are used to perform logical operations on values, typically boolean values (True and False). They are used to combine conditional statements and return a boolean result.\n",
        "\n",
        "Python has three main logical operators:\n",
        "\n",
        "1. and (Logical AND)\n",
        "The and operator returns True if both conditions (operands) are true. If either of the conditions is false, the result will be False.\n",
        "\n",
        "2. or (Logical OR)\n",
        "The or operator returns True if at least one of the conditions (operands) is true. If both conditions are false, the result will be False.\n",
        "\n",
        "3. not (Logical NOT)\n",
        "The not operator is a unary operator (it operates on a single condition). It returns True if the condition is False, and False if the condition is True. Essentially, it negates the boolean value.\n",
        "\n",
        "\n",
        "Truth Tables:\n",
        "Here are the truth tables for the logical operators:\n",
        "\n",
        "and (Logical AND):\n",
        "\n",
        " 1. True is condition 1 and true is condition 2\tthan result is True.\n",
        " 2. True is condition1 and False is condition 2 than result is False.\n",
        " 3. False is conditon 1 and True is condition 2 than result is False.\n",
        " 4. False is condition 1 and False is condition 2 than result is False.\n",
        "\n",
        "\n",
        "or (Logical OR):\n",
        "1. True is condition 1 and true is condition 2\tthan result is True.\n",
        " 2. True is condition1 and False is condition 2 than result is True.\n",
        " 3. False is conditon 1 and True is condition 2 than result is True.\n",
        " 4. False is condition 1 and False is condition 2 than result is False.\n",
        "\n",
        "not (Logical NOT):\n",
        "1. if the condition is true than result is False.\n",
        "2. if the condition is False than result is True.\n",
        "\n",
        "\n",
        "\n",
        "\n",
        "\n",
        "\n"
      ],
      "metadata": {
        "id": "viFCn7janXBI"
      }
    },
    {
      "cell_type": "markdown",
      "source": [
        "9. What is type casting in Python?\n",
        "\n",
        "Type casting in Python refers to the process of converting one data type to another. Python provides several built-in functions to convert between different data types, and this is useful when performing operations on variables that require specific types, such as arithmetic operations, string manipulations, and more.\n",
        "\n",
        "There are two main types of type casting in Python:\n",
        "\n",
        "1. Implicit Type Casting (Automatic Type Conversion):\n",
        "Implicit type casting, also known as automatic type conversion, occurs when Python automatically converts one data type to another. This typically happens when you perform operations that involve two different data types, and Python is capable of safely converting the data type to perform the operation.\n",
        "\n",
        "For example:\n",
        "When adding an integer to a floating-point number, Python automatically converts the integer to a float to ensure the result is a float.\n",
        "\n",
        "2. Explicit Type Casting (Manual Type Conversion):\n",
        "Explicit type casting, also known as manual type conversion, occurs when you manually convert one data type to another using Python's built-in functions. This is done using functions like int(), float(), str(), list(), tuple(), etc.\n",
        "\n",
        "You need to explicitly call these functions to convert the variable to a specific type.\n",
        "\n",
        "###Examples of Explicit Type Casting:\n",
        "Convert from one type to another using built-in functions:\n",
        "\n",
        "\n",
        "**Convert to Integer (int()):**\n",
        "\n",
        "\n",
        "The int() function is used to convert a value to an integer.\n",
        "If the value is a float, it will truncate the decimal part (i.e., round down).\n",
        "If the value is a string representing a number, it can also be converted to an integer.\n",
        "\n",
        "**Convert to Float (float()):**\n",
        "The float() function is used to convert a value to a float.\n",
        "If the value is a string that can be converted to a number, it will return a float.\n",
        "\n",
        "**Convert to String (str()):**\n",
        "The str() function is used to convert any data type to a string representation\n",
        "\n",
        "**Convert to List (list()):**\n",
        "The list() function converts an iterable (such as a tuple, string, or set) into a list.\n",
        "\n",
        "**Convert to Tuple (tuple()):**\n",
        "The tuple() function converts an iterable (such as a list or string) into a tuple.\n",
        "\n",
        "**Convert to Set (set()):**\n",
        "The set() function converts an iterable into a set. It removes duplicate elements because a set does not allow duplicates.\n",
        "\n",
        "\n",
        "Type casting is a crucial concept in Python, allowing you to convert between different data types as needed. Implicit casting is done automatically by Python, while explicit casting requires the programmer to use specific functions to convert values to the desired types.\n"
      ],
      "metadata": {
        "id": "mnPqr7WttX_Y"
      }
    },
    {
      "cell_type": "markdown",
      "source": [
        "10.  What is the difference between implicit and explicit type casting?\n",
        "- The difference between implicit and explicit type casting in Python lies in how the conversion between data types is performed and whether the programmer has control over the process.\n",
        "\n",
        "1. Implicit Type Casting (Automatic Type Conversion):\n",
        "\n",
        "Definition: Implicit type casting is when Python automatically converts one data type to another without any explicit instruction from the programmer.\n",
        "\n",
        "How it works: Python does this conversion when it is safe to do so (i.e., when there is no risk of losing information). For example, when you perform operations between different numeric types, Python may automatically convert smaller data types to larger ones.\n",
        "Example: If you add an integer to a floating-point number, Python automatically converts the integer to a float to ensure the result is a float.\n",
        "\n",
        "2. Explicit Type Casting (Manual Type Conversion):\n",
        "\n",
        "Definition: Explicit type casting is when the programmer manually converts one data type to another using Python's built-in functions (like int(), float(), str(), etc.).\n",
        "\n",
        "How it works: The programmer instructs Python to convert a value into a specific data type. This is necessary when Python doesn't automatically handle the conversion or when the programmer needs precise control over the type conversion.\n",
        "Example: If you want to convert a string containing a number to an integer, you need to explicitly use the int() function.\n",
        "\n",
        "key differences:\n",
        "\n",
        "1. performed by - Implicit Type Casting performed automatically by computer , while in Explicit Type Casting programmer has to type the code manually\n",
        "\n",
        "2. safety -  Implicit Type Casting is genearlly safe; there is no data loss or percision loss . But in Explicit Type Casting may cause data loss or percision loss.\n",
        "\n",
        "3. common use - common use of  Implicit Type Casting is smaller to larger types (e.g., int to float) And larger to smaller types in Explicit Type Casting (e.g., double to int)\n",
        "\n",
        "4. Syntax - no special syntax required in Implicit Type Casting but syntax is required in Explicit Type Casting e.g., (type)value .\n",
        "\n"
      ],
      "metadata": {
        "id": "AnXmPuRuwpX0"
      }
    },
    {
      "cell_type": "markdown",
      "source": [
        "11.  What is the purpose of conditional statements in Python?\n",
        "- Conditional statements in Python are used to control the flow of the program based on certain conditions. They allow the program to execute different blocks of code depending on whether a condition is true or false. This makes programs more dynamic and responsive to different inputs or situations.\n",
        "\n",
        "Here are the main types of conditional statements in Python:\n",
        "1. if statement:\n",
        "The if statement allows you to test a condition. If the condition evaluates to True, the code inside the if block is executed.\n",
        "\n",
        "2. elif statement (else if):\n",
        "The elif statement is used to test multiple conditions. If the condition in the if statement is false, it checks the condition in the elif statement. You can have multiple elif blocks.\n",
        "\n",
        "\n",
        "if condition1:\n",
        "    # Execute this block if condition1 is true\n",
        "elif condition2:\n",
        "    # Execute this block if condition2 is true\n",
        "3. else statement:\n",
        "The else statement is used to execute a block of code when none of the preceding conditions are true. It's the \"default\" action.\n",
        "\n",
        "\n",
        "if condition:\n",
        "    # Execute this block if condition is true\n",
        "else:\n",
        "    # Execute this block if condition is false\n",
        "\n",
        "4. Nested if..else Conditional Statements :\n",
        "Nested if..else means an if-else statement inside another if statement. Or in simple words first, there is an outer if statement, and inside it another if – else statement is present and such type of statement is known as nested if statement. We can use one if or else if statement inside another if or else if statements."
      ],
      "metadata": {
        "id": "OoP1moAMI7OQ"
      }
    },
    {
      "cell_type": "markdown",
      "source": [
        "12.  How does the elif statement work?\n",
        "- The elif (short for \"else if\") statement in Python is used to check multiple conditions in a sequence. It follows an initial if statement and allows you to test additional conditions if the previous conditions were not true. If the condition in the if statement evaluates to False, Python moves on to the elif block to check its condition. If the elif condition is True, its associated block of code will be executed.\n",
        "\n",
        "How it works:\n",
        "The program first checks the condition in the if statement.\n",
        "If the condition in the if is True, it executes the code inside the if block and skips the rest of the elif and else blocks.\n",
        "If the if condition is False, Python checks each subsequent elif condition (if any).\n",
        "If an elif condition is True, the code inside that elif block runs, and Python skips any remaining elif or else blocks.\n",
        "If none of the if or elif conditions are True, the else block (if present) is executed.\n",
        "Syntax:\n",
        "python\n",
        "Copy code\n",
        "if condition1:\n",
        "    # Executes if condition1 is True\n",
        "    statement1\n",
        "elif condition2:\n",
        "    # Executes if condition1 is False and condition2 is True\n",
        "    statement2\n",
        "elif condition3:\n",
        "    # Executes if condition1 and condition2 are False, and condition3 is True\n",
        "    statement3\n",
        "else:\n",
        "    # Executes if all the conditions above are False\n",
        "    statement\n",
        "\n",
        "\n",
        "Example with elif:\n",
        "\n",
        "\n",
        "age = 25\n",
        "\n",
        "if age < 18:\n",
        "\n",
        "    print(\"You are a minor.\")\n",
        "elif age >= 18 and age < 65:\n",
        "\n",
        "    print(\"You are an adult.\")\n",
        "elif age >= 65:\n",
        "\n",
        "    print(\"You are a senior citizen.\")\n",
        "else:\n",
        "\n",
        "    print(\"Invalid age.\")\n",
        "Explanation of the Example:\n",
        "\n",
        "The program first checks if the person is younger than 18. If True, it prints \"You are a minor.\"\n",
        "\n",
        "If the age is 18 or older but less than 65, the second condition (elif age >= 18 and age < 65) is checked, and if True, it prints \"You are an adult.\"\n",
        "\n",
        "If neither of the above conditions is True, it checks if the person is 65 or older with elif age >= 65. If this condition is True, it prints \"You are a senior citizen.\"\n",
        "\n",
        "If none of the conditions are True, the else block would execute (though in this case, the else block is unnecessary because all age ranges are covered)."
      ],
      "metadata": {
        "id": "ZC8Wt7s2knz4"
      }
    },
    {
      "cell_type": "markdown",
      "source": [
        "13. What is the difference between for and while loops?\n",
        "\n",
        "-In Python, both for loops and while loops are used for repeating a block of code multiple times, but they differ in how they control the flow of execution.\n",
        "\n",
        "1. for Loop:\n",
        "The for loop is typically used when you know in advance how many times you want to iterate through a sequence or range of items (like a list, tuple, string, or range).\n",
        "\n",
        "Iteration: It automatically iterates over a sequence or range and executes a block of code for each item in that sequence.\n",
        "\n",
        "Usage: Commonly used when you have a collection of items (like a list or string) or a specified range of numbers and want to execute a block of code for each element.\n",
        "\n",
        "Structure:\n",
        "\n",
        "for item in iterable:\n",
        "    # Code to execute\n",
        "Example: Iterating over a list of numbers:\n",
        "\n",
        "numbers = [1, 2, 3, 4, 5]\n",
        "\n",
        "for num in numbers:\n",
        "\n",
        "    print(num)\n",
        "This loop will print each number in the list numbers.\n",
        "\n",
        "Example with range():\n",
        "\n",
        "for i in range(5):\n",
        "\n",
        "    print(i)\n",
        "This will print numbers from 0 to 4, as range(5) generates numbers starting from 0 up to but not including 5.\n",
        "\n",
        "\n",
        "2. while Loop:\n",
        "The while loop is used when you want to repeat a block of code as long as a certain condition is True. It keeps executing the block until the condition becomes False.\n",
        "\n",
        "Condition-based: The loop continues as long as the condition specified in the while statement remains True.\n",
        "\n",
        "Usage: Commonly used when you don't know in advance how many times the loop should run and instead rely on a condition to stop the loop.\n",
        "\n",
        "Structure:\n",
        "\n",
        "while condition:\n",
        "    # Code to execute\n",
        "Example: Printing numbers until a certain condition is met:\n",
        "\n",
        "num = 0\n",
        "\n",
        "while num < 5:\n",
        "\n",
        "    print(num)\n",
        "    num += 1\n",
        "This will print numbers from 0 to 4. The loop continues as long as num < 5.\n",
        "\n",
        "####When to Use Which?\n",
        "\n",
        "for loop: Use it when you know in advance how many times you need to loop, such as iterating through items in a list or generating a range of numbers.\n",
        "It’s more concise and clear when you have an iterable (like a list or string) to loop over.\n",
        "\n",
        "while loop: Use it when you need to loop based on a condition that could change during the loop's execution.\n",
        "It’s more flexible when you don’t know in advance how many iterations you’ll need."
      ],
      "metadata": {
        "id": "POBlm6j-pgE1"
      }
    },
    {
      "cell_type": "markdown",
      "source": [
        "14. Describe a scenario where a while loop is more suitable than a for loop.\n",
        "\n",
        "- A **`while` loop** is more suitable than a **`for` loop** when the number of iterations is not known in advance and depends on a condition that may change during execution. For example, consider a scenario where you're building a login system that allows a user to keep trying to enter the correct password until they succeed or reach a maximum number of attempts.\n",
        "\n",
        "### Scenario:\n",
        "You are writing a program where the user has to enter the correct password. If the user enters an incorrect password, the program should ask for the password again. The program should continue this process until the correct password is entered or the user exceeds a maximum number of attempts.\n",
        "\n",
        "### Why a `while` loop is better:\n",
        "In this case, the number of attempts is not fixed, but the loop should continue as long as the user hasn’t entered the correct password and hasn't exceeded the maximum number of attempts. A **`while` loop** works best because it depends on a condition (`password_correct` or `attempts_left`), which could change during the loop’s execution.\n",
        "\n",
        "### Example with `while` loop:\n",
        "\n",
        "```python\n",
        "max_attempts = 3\n",
        "attempts = 0\n",
        "correct_password = \"secret\"\n",
        "\n",
        "while attempts < max_attempts:\n",
        "    user_input = input(\"Enter your password: \")\n",
        "    if user_input == correct_password:\n",
        "        print(\"Login successful!\")\n",
        "        break\n",
        "    else:\n",
        "        attempts += 1\n",
        "        print(f\"Incorrect password. You have {max_attempts - attempts} attempts left.\")\n",
        "\n",
        "if attempts == max_attempts:\n",
        "    print(\"Too many failed attempts. Please try again later.\")\n",
        "```\n",
        "\n",
        "### Explanation:\n",
        "- **Condition-driven execution**: The loop runs as long as the user has not exceeded the maximum attempts (`attempts < max_attempts`).\n",
        "- **Indefinite iterations**: The number of iterations isn't fixed; the loop continues until the user either enters the correct password or exhausts their allowed attempts.\n",
        "\n",
        "### Why Not a `for` Loop?\n",
        "In this scenario, a **`for` loop** would require you to define the number of iterations upfront, which would be impractical because you don’t know if the user will get the password right on the first try or after several attempts. The `while` loop’s condition allows for more flexibility.\n",
        "\n",
        "### Conclusion:\n",
        "A **`while` loop** is ideal when the number of iterations depends on a condition that is evaluated during the loop's execution, such as when you need to repeat a process until a user input meets a specific requirement."
      ],
      "metadata": {
        "id": "YoT77x9Ju0jB"
      }
    },
    {
      "cell_type": "markdown",
      "source": [
        "###practical questions"
      ],
      "metadata": {
        "id": "brRif_AvypKF"
      }
    },
    {
      "cell_type": "markdown",
      "source": [
        " 1.Write a Python program to print \"Hello, World!\""
      ],
      "metadata": {
        "id": "7gPAEN0Wy9D9"
      }
    },
    {
      "cell_type": "code",
      "source": [
        "print(\"Hello, World!\")"
      ],
      "metadata": {
        "colab": {
          "base_uri": "https://localhost:8080/"
        },
        "id": "Q9njBSc9zGQ9",
        "outputId": "b7da61a4-3fc4-47ea-83b7-74be98fe8593"
      },
      "execution_count": null,
      "outputs": [
        {
          "output_type": "stream",
          "name": "stdout",
          "text": [
            "Hello, World!\n"
          ]
        }
      ]
    },
    {
      "cell_type": "markdown",
      "source": [
        "2. Write a Python program that displays your name and age."
      ],
      "metadata": {
        "id": "lY5waJtEzcpb"
      }
    },
    {
      "cell_type": "code",
      "source": [
        "#defining variable as name and age\n",
        "name = \"Himani Raikwar\"\n",
        "age = 24\n",
        "\n",
        "print(\"Name:\", name)\n",
        "print(\"Age:\", age)\n"
      ],
      "metadata": {
        "colab": {
          "base_uri": "https://localhost:8080/"
        },
        "id": "T-snxxc6zhYY",
        "outputId": "44fafab3-5041-46e2-b3aa-fa49efd937d6"
      },
      "execution_count": null,
      "outputs": [
        {
          "output_type": "stream",
          "name": "stdout",
          "text": [
            "Name: Himani Raikwar\n",
            "Age: 24\n"
          ]
        }
      ]
    },
    {
      "cell_type": "markdown",
      "source": [
        "3. Write code to print all the pre-defined keywords in Python using the keyword library.\n"
      ],
      "metadata": {
        "id": "l2pk1NcDy-n1"
      }
    },
    {
      "cell_type": "code",
      "source": [
        "#list of keywords by using help\n",
        "help(\"keywords\")"
      ],
      "metadata": {
        "colab": {
          "base_uri": "https://localhost:8080/"
        },
        "id": "HkmYb3qiyypk",
        "outputId": "2bffdbdb-0497-4683-ad83-658b8fb62fe8"
      },
      "execution_count": null,
      "outputs": [
        {
          "output_type": "stream",
          "name": "stdout",
          "text": [
            "\n",
            "Here is a list of the Python keywords.  Enter any keyword to get more help.\n",
            "\n",
            "False               class               from                or\n",
            "None                continue            global              pass\n",
            "True                def                 if                  raise\n",
            "and                 del                 import              return\n",
            "as                  elif                in                  try\n",
            "assert              else                is                  while\n",
            "async               except              lambda              with\n",
            "await               finally             nonlocal            yield\n",
            "break               for                 not                 \n",
            "\n"
          ]
        }
      ]
    },
    {
      "cell_type": "code",
      "source": [
        "import keyword\n",
        "\n",
        "# Print all Python keywords\n",
        "print(\"Python keywords:\", keyword.kwlist)"
      ],
      "metadata": {
        "colab": {
          "base_uri": "https://localhost:8080/"
        },
        "id": "HCECN-uF0lgz",
        "outputId": "8fc801cc-665c-4bda-eff5-f5153d80ee65"
      },
      "execution_count": null,
      "outputs": [
        {
          "output_type": "stream",
          "name": "stdout",
          "text": [
            "Python keywords: ['False', 'None', 'True', 'and', 'as', 'assert', 'async', 'await', 'break', 'class', 'continue', 'def', 'del', 'elif', 'else', 'except', 'finally', 'for', 'from', 'global', 'if', 'import', 'in', 'is', 'lambda', 'nonlocal', 'not', 'or', 'pass', 'raise', 'return', 'try', 'while', 'with', 'yield']\n"
          ]
        }
      ]
    },
    {
      "cell_type": "markdown",
      "source": [
        "4.  Write a program that checks if a given word is a Python keyword."
      ],
      "metadata": {
        "id": "xsPJBPtj1UWL"
      }
    },
    {
      "cell_type": "code",
      "source": [
        "import keyword\n",
        "\n",
        "# Gettin an input (keyword)\n",
        "word = input(\"Enter a word: \")\n",
        "\n",
        "# Checking if the word is a Python keyword\n",
        "if keyword.iskeyword(word):\n",
        "    print(f\"'{word}' is a Python keyword.\")\n",
        "else:\n",
        "    print(f\"'{word}' is not a Python keyword.\")\n"
      ],
      "metadata": {
        "colab": {
          "base_uri": "https://localhost:8080/"
        },
        "id": "kJVcKUkP1uNW",
        "outputId": "4eb31d3b-9b27-486f-d91f-3a291bf4e4d2"
      },
      "execution_count": null,
      "outputs": [
        {
          "output_type": "stream",
          "name": "stdout",
          "text": [
            "Enter a word: True\n",
            "'True' is a Python keyword.\n"
          ]
        }
      ]
    },
    {
      "cell_type": "markdown",
      "source": [
        "5.Create a list and tuple in Python, and demonstrate how attempting to change an element works differently\n",
        "for each."
      ],
      "metadata": {
        "id": "4Dppwktk1qad"
      }
    },
    {
      "cell_type": "code",
      "source": [
        "# Creating a list\n",
        "my_list = [1, 2, 3, 4, 5]\n",
        "print(\"Original list:\", my_list)\n",
        "\n",
        "# Attempting to change an element in the list\n",
        "my_list[2] = 100\n",
        "print(\"List after changing an element:\", my_list)\n",
        "\n",
        "# Creating a tuple\n",
        "my_tuple = (1, 2, 3, 4, 5)\n",
        "print(\"Original tuple:\", my_tuple)\n",
        "\n",
        "# Attempting to change an element in the tuple (will raise an error)\n",
        "try:\n",
        "    my_tuple[2] = 100\n",
        "except TypeError as e:\n",
        "    print(\"Error when trying to change tuple element:\", e)\n"
      ],
      "metadata": {
        "colab": {
          "base_uri": "https://localhost:8080/"
        },
        "id": "FRr8Zxy_05X3",
        "outputId": "f79eafb2-5fcd-4ea5-f773-3dd41a15d5bd"
      },
      "execution_count": null,
      "outputs": [
        {
          "output_type": "stream",
          "name": "stdout",
          "text": [
            "Original list: [1, 2, 3, 4, 5]\n",
            "List after changing an element: [1, 2, 100, 4, 5]\n",
            "Original tuple: (1, 2, 3, 4, 5)\n",
            "Error when trying to change tuple element: 'tuple' object does not support item assignment\n"
          ]
        }
      ]
    },
    {
      "cell_type": "markdown",
      "source": [
        "6. Write a function to demonstrate the behavior of mutable and immutable."
      ],
      "metadata": {
        "id": "R7YjLt9f49ek"
      }
    },
    {
      "cell_type": "code",
      "source": [
        "def demonstrate_mutability():\n",
        "    # Mutable object: List\n",
        "    mutable_obj = [1, 2, 3]\n",
        "    print(\"Original mutable object (list):\", mutable_obj)\n",
        "\n",
        "    # Modify the mutable object (list)\n",
        "    mutable_obj[1] = 100\n",
        "    print(\"Mutable object after modification:\", mutable_obj)\n",
        "\n",
        "    # Immutable object: Tuple\n",
        "    immutable_obj = (1, 2, 3)\n",
        "    print(\"Original immutable object (tuple):\", immutable_obj)\n",
        "\n",
        "    # Try to modify the immutable object (tuple) and catch the error\n",
        "    try:\n",
        "        immutable_obj[1] = 100\n",
        "    except TypeError as e:\n",
        "        print(\"Error when trying to modify the immutable object:\", e)\n",
        "\n",
        "# Call the function to demonstrate the behavior\n",
        "demonstrate_mutability()\n"
      ],
      "metadata": {
        "colab": {
          "base_uri": "https://localhost:8080/"
        },
        "id": "OG3USfGa5Hhh",
        "outputId": "f27f0d1d-460c-40eb-e6c7-3353e0c5dcdd"
      },
      "execution_count": null,
      "outputs": [
        {
          "output_type": "stream",
          "name": "stdout",
          "text": [
            "Original mutable object (list): [1, 2, 3]\n",
            "Mutable object after modification: [1, 100, 3]\n",
            "Original immutable object (tuple): (1, 2, 3)\n",
            "Error when trying to modify the immutable object: 'tuple' object does not support item assignment\n"
          ]
        }
      ]
    },
    {
      "cell_type": "markdown",
      "source": [
        "7. Write a function to demonstrate the behavior of mutable and immutable arguments.\n",
        "this question is same as 6th question the above one"
      ],
      "metadata": {
        "id": "abp68b4w56SK"
      }
    },
    {
      "cell_type": "code",
      "source": [
        "def demonstrate_mutability():\n",
        "    # Mutable object: List\n",
        "    mutable_obj = [1, 2, 3]\n",
        "    print(\"Original mutable object (list):\", mutable_obj)\n",
        "\n",
        "    # Modify the mutable object (list)\n",
        "    mutable_obj[1] = 100\n",
        "    print(\"Mutable object after modification:\", mutable_obj)\n",
        "\n",
        "    # Immutable object: Tuple\n",
        "    immutable_obj = (1, 2, 3)\n",
        "    print(\"Original immutable object (tuple):\", immutable_obj)\n",
        "\n",
        "    # Try to modify the immutable object (tuple) and catch the error\n",
        "    try:\n",
        "        immutable_obj[1] = 100\n",
        "    except TypeError as e:\n",
        "        print(\"Error when trying to modify the immutable object:\", e)\n",
        "\n",
        "# Call the function to demonstrate the behavior\n",
        "demonstrate_mutability()\n"
      ],
      "metadata": {
        "id": "mDRi8pVL5-2g"
      },
      "execution_count": null,
      "outputs": []
    },
    {
      "cell_type": "markdown",
      "source": [
        "8. Write a program to demonstrate the use of logical operators."
      ],
      "metadata": {
        "id": "DxICk9iG6F80"
      }
    },
    {
      "cell_type": "code",
      "source": [
        "# Defining variables\n",
        "a = 5\n",
        "b = 10\n",
        "c = 15\n",
        "\n",
        "# Using 'and' operator\n",
        "print(f\"Is {a} less than {b} and {b} less than {c}?\")\n",
        "print(a < b and b < c)  # True because both conditions are True\n",
        "\n",
        "# Using 'or' operator\n",
        "print(f\"\\nIs {a} greater than {b} or {b} less than {c}?\")\n",
        "print(a > b or b < c)  # True because the second condition is True\n",
        "\n",
        "# Using 'not' operator\n",
        "print(f\"\\nIs it not true that {a} is greater than {b}?\")\n",
        "print(not a > b)  # True because the condition a > b is False, and 'not' reverses it\n",
        "\n",
        "# Combining multiple logical operators\n",
        "print(f\"\\nIs {a} less than {b} and (not {b} less than {c})?\")\n",
        "print(a < b and not b < c)  # False because b < c is True, so 'not' makes it False\n"
      ],
      "metadata": {
        "colab": {
          "base_uri": "https://localhost:8080/"
        },
        "id": "IfLVlnrO6Nty",
        "outputId": "a0c7b6d3-c9f0-4030-8842-9c110c02e96d"
      },
      "execution_count": null,
      "outputs": [
        {
          "output_type": "stream",
          "name": "stdout",
          "text": [
            "Is 5 less than 10 and 10 less than 15?\n",
            "True\n",
            "\n",
            "Is 5 greater than 10 or 10 less than 15?\n",
            "True\n",
            "\n",
            "Is it not true that 5 is greater than 10?\n",
            "True\n",
            "\n",
            "Is 5 less than 10 and (not 10 less than 15)?\n",
            "False\n"
          ]
        }
      ]
    },
    {
      "cell_type": "markdown",
      "source": [
        "9. Write a Python program to convert user input from string to integer, float, and boolean types.\n"
      ],
      "metadata": {
        "id": "mFDLgpGQ7NYW"
      }
    },
    {
      "cell_type": "code",
      "source": [
        "# Getting input from the user\n",
        "user_input = input(\"Enter a value: \")\n",
        "\n",
        "# Convert to Integer\n",
        "try:\n",
        "    int_value = int(user_input)\n",
        "    print(f\"The value as an integer: {int_value}\")\n",
        "except ValueError:\n",
        "    print(\"The input could not be converted to an integer.\")\n",
        "\n",
        "# Convert to Float\n",
        "try:\n",
        "    float_value = float(user_input)\n",
        "    print(f\"The value as a float: {float_value}\")\n",
        "except ValueError:\n",
        "    print(\"The input could not be converted to a float.\")\n",
        "\n",
        "# Convert to Boolean\n",
        "# In Python, any non-empty string is considered True, and an empty string is considered False\n",
        "bool_value = bool(user_input)\n",
        "print(f\"The value as a boolean: {bool_value}\")\n"
      ],
      "metadata": {
        "colab": {
          "base_uri": "https://localhost:8080/"
        },
        "id": "xwCIJbmD7SfU",
        "outputId": "7886a952-e603-4229-9ff2-494ef51c00e8"
      },
      "execution_count": null,
      "outputs": [
        {
          "output_type": "stream",
          "name": "stdout",
          "text": [
            "Enter a value: 45\n",
            "The value as an integer: 45\n",
            "The value as a float: 45.0\n",
            "The value as a boolean: True\n"
          ]
        }
      ]
    },
    {
      "cell_type": "markdown",
      "source": [
        "\n"
      ],
      "metadata": {
        "id": "Sy2ye6PypV34"
      }
    },
    {
      "cell_type": "markdown",
      "source": [
        "10. Write code to demonstrate type casting with list elements."
      ],
      "metadata": {
        "id": "85BBlhlT71Bg"
      }
    },
    {
      "cell_type": "code",
      "source": [],
      "metadata": {
        "id": "j7H5d5yQ75K0"
      },
      "execution_count": null,
      "outputs": []
    },
    {
      "cell_type": "code",
      "source": [
        "# A list of string elements\n",
        "string_list = [\"10\", \"20.5\", \"True\", \"5\"]\n",
        "\n",
        "# Convert all elements in the list to integers\n",
        "int_list = [int(x) if x.isdigit() else 0 for x in string_list]  # Convert valid strings to integers\n",
        "print(\"List with integer elements:\", int_list)\n",
        "\n",
        "# Convert all elements in the list to floats\n",
        "float_list = [float(x) if x.replace('.', '', 1).isdigit() else 0.0 for x in string_list]  # Handle decimal numbers\n",
        "print(\"List with float elements:\", float_list)\n",
        "\n",
        "# Convert all elements in the list to booleans\n",
        "# Non-empty strings will be True, empty strings will be False\n",
        "bool_list = [bool(x) for x in string_list]\n",
        "print(\"List with boolean elements:\", bool_list)\n"
      ],
      "metadata": {
        "colab": {
          "base_uri": "https://localhost:8080/"
        },
        "id": "kd4wg9Bw7wvY",
        "outputId": "7a02b5a1-b480-42be-cc9f-4079d558c59b"
      },
      "execution_count": 1,
      "outputs": [
        {
          "output_type": "stream",
          "name": "stdout",
          "text": [
            "List with integer elements: [10, 0, 0, 5]\n",
            "List with float elements: [10.0, 20.5, 0.0, 5.0]\n",
            "List with boolean elements: [True, True, True, True]\n"
          ]
        }
      ]
    },
    {
      "cell_type": "markdown",
      "source": [
        "11. Write a program that checks if a number is positive, negative, or zero"
      ],
      "metadata": {
        "id": "Jl2T2kgj8--X"
      }
    },
    {
      "cell_type": "code",
      "source": [
        "# Get user input\n",
        "number = float(input(\"Enter a number: \"))\n",
        "\n",
        "# Check if the number is positive, negative, or zero\n",
        "if number > 0:\n",
        "    print(\"The number is positive.\")\n",
        "elif number < 0:\n",
        "    print(\"The number is negative.\")\n",
        "else:\n",
        "    print(\"The number is zero.\")\n"
      ],
      "metadata": {
        "colab": {
          "base_uri": "https://localhost:8080/"
        },
        "id": "UR31-jPy8oeG",
        "outputId": "9b56ff32-86b3-4a6d-9686-a0bd66be8815"
      },
      "execution_count": null,
      "outputs": [
        {
          "output_type": "stream",
          "name": "stdout",
          "text": [
            "Enter a number: 0\n",
            "The number is zero.\n"
          ]
        }
      ]
    },
    {
      "cell_type": "markdown",
      "source": [
        "12.Write a for loop to print numbers from 1 to 10.\n"
      ],
      "metadata": {
        "id": "lZ4BU_bm9aYi"
      }
    },
    {
      "cell_type": "code",
      "source": [
        "# Using a for loop to print numbers from 1 to 10\n",
        "for i in range(1, 11):\n",
        "    print(i)\n"
      ],
      "metadata": {
        "colab": {
          "base_uri": "https://localhost:8080/"
        },
        "id": "y2sqKUgv9R-U",
        "outputId": "021bcb67-b61e-43bc-92d5-b298127eb8cd"
      },
      "execution_count": null,
      "outputs": [
        {
          "output_type": "stream",
          "name": "stdout",
          "text": [
            "1\n",
            "2\n",
            "3\n",
            "4\n",
            "5\n",
            "6\n",
            "7\n",
            "8\n",
            "9\n",
            "10\n"
          ]
        }
      ]
    },
    {
      "cell_type": "markdown",
      "source": [
        "13. Write a Python program to find the sum of all even numbers between 1 and 50"
      ],
      "metadata": {
        "id": "f7LLxu-L9zvE"
      }
    },
    {
      "cell_type": "code",
      "source": [
        "# Initialize the sum variable\n",
        "sum_of_evens = 0\n",
        "\n",
        "# Loop through numbers from 1 to 500\n",
        "for number in range(1, 501):\n",
        "    if number % 2 == 0:  # Check if the number is even\n",
        "        sum_of_evens += number  # Add the even number to the sum\n",
        "\n",
        "# Print the sum of all even numbers\n",
        "print(\"The sum of all even numbers between 1 and 500 is:\", sum_of_evens)\n"
      ],
      "metadata": {
        "colab": {
          "base_uri": "https://localhost:8080/"
        },
        "id": "y8tjQX2b9Ujs",
        "outputId": "7089e610-99a4-400e-c254-3d8c6de76b24"
      },
      "execution_count": null,
      "outputs": [
        {
          "output_type": "stream",
          "name": "stdout",
          "text": [
            "The sum of all even numbers between 1 and 500 is: 62750\n"
          ]
        }
      ]
    },
    {
      "cell_type": "markdown",
      "source": [
        "14. Write a program to reverse a string using a while loop.\n"
      ],
      "metadata": {
        "id": "0o2YI59v-M8g"
      }
    },
    {
      "cell_type": "code",
      "source": [
        "# Function to reverse a string using a while loop\n",
        "def reverse_string(s):\n",
        "    reversed_string = \"\"\n",
        "    index = len(s) - 1  # Start from the last character of the string\n",
        "\n",
        "    # Use a while loop to iterate through the string from the end to the beginning\n",
        "    while index >= 0:\n",
        "        reversed_string += s[index]  # Append each character to the reversed string\n",
        "        index -= 1  # Move to the previous character\n",
        "\n",
        "    return reversed_string\n",
        "\n",
        "# Get input from the user\n",
        "user_input = input(\"Enter a string: \")\n",
        "\n",
        "# Call the function and print the reversed string\n",
        "print(\"Reversed string:\", reverse_string(user_input))\n"
      ],
      "metadata": {
        "colab": {
          "base_uri": "https://localhost:8080/"
        },
        "id": "oze-H10h994i",
        "outputId": "23957f2f-9910-4cf8-f6e1-19d66d5dff04"
      },
      "execution_count": null,
      "outputs": [
        {
          "output_type": "stream",
          "name": "stdout",
          "text": [
            "Enter a string: python\n",
            "Reversed string: nohtyp\n"
          ]
        }
      ]
    },
    {
      "cell_type": "markdown",
      "source": [
        "15.  Write a Python program to calculate the factorial of a number provided by the user using a while loop.\n"
      ],
      "metadata": {
        "id": "57UeAHAk-vKj"
      }
    },
    {
      "cell_type": "code",
      "source": [
        "# Function to calculate the factorial using a while loop\n",
        "def calculate_factorial(n):\n",
        "    factorial = 1\n",
        "\n",
        "    # Check if the number is negative\n",
        "    if n < 0:\n",
        "        return \"Factorial does not exist for negative numbers\"\n",
        "\n",
        "    # Use a while loop to calculate factorial\n",
        "    while n > 0:\n",
        "        factorial *= n  # Multiply the current value of factorial by n\n",
        "        n -= 1  # Decrease n by 1\n",
        "\n",
        "    return factorial\n",
        "\n",
        "# Get input from the user\n",
        "number = int(input(\"Enter a number to calculate its factorial: \"))\n",
        "\n",
        "# Call the function and print the factorial\n",
        "result = calculate_factorial(number)\n",
        "print(f\"The factorial is: {result}\")\n"
      ],
      "metadata": {
        "colab": {
          "base_uri": "https://localhost:8080/"
        },
        "id": "sWpcYiiD-hWg",
        "outputId": "3d327baf-885e-484d-cb2a-e3ec8650c09b"
      },
      "execution_count": null,
      "outputs": [
        {
          "output_type": "stream",
          "name": "stdout",
          "text": [
            "Enter a number to calculate its factorial: 28\n",
            "The factorial is: 304888344611713860501504000000\n"
          ]
        }
      ]
    },
    {
      "cell_type": "code",
      "source": [],
      "metadata": {
        "id": "CpWd8VBw-8i3"
      },
      "execution_count": null,
      "outputs": []
    }
  ]
}